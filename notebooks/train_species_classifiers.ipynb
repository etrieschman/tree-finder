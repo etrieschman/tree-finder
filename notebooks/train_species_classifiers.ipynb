{
 "cells": [
  {
   "cell_type": "code",
   "execution_count": 1,
   "metadata": {
    "executionInfo": {
     "elapsed": 5608,
     "status": "ok",
     "timestamp": 1653709361785,
     "user": {
      "displayName": "Erich Trieschman",
      "userId": "04527634189755173835"
     },
     "user_tz": 420
    },
    "id": "594e7af7-e9e5-4c7c-8f92-6e3a29132535"
   },
   "outputs": [],
   "source": [
    "import numpy as np\n",
    "import pandas as pd\n",
    "import matplotlib.pyplot as plt\n",
    "from pathlib import Path\n",
    "import sys\n",
    "from tqdm import tqdm\n",
    "\n",
    "import torch\n",
    "import torch.nn as nn\n",
    "import torch.nn.functional as F\n",
    "import torch.optim as optim\n",
    "from torch.optim import lr_scheduler\n",
    "from torch.utils.data import DataLoader, ConcatDataset, Subset\n",
    "# from torch.utils.data import sampler\n",
    "\n",
    "import torchvision.datasets as dset\n",
    "import torchvision.transforms as T\n",
    "\n",
    "from PIL import Image\n",
    "\n",
    "# disable warnings\n",
    "Image.MAX_IMAGE_PIXELS = None # image processing\n",
    "# auto-reload functions before each instance running them\n",
    "%load_ext autoreload\n",
    "%autoreload 2"
   ]
  },
  {
   "cell_type": "code",
   "execution_count": 2,
   "metadata": {
    "colab": {
     "base_uri": "https://localhost:8080/"
    },
    "executionInfo": {
     "elapsed": 7,
     "status": "ok",
     "timestamp": 1653709361785,
     "user": {
      "displayName": "Erich Trieschman",
      "userId": "04527634189755173835"
     },
     "user_tz": 420
    },
    "id": "58b7eb54-417f-4045-a970-31fa965a0698",
    "outputId": "cb64c99f-ea85-4745-8963-963fde204332"
   },
   "outputs": [
    {
     "name": "stdout",
     "output_type": "stream",
     "text": [
      "using device: cuda\n"
     ]
    }
   ],
   "source": [
    "# Remote instance set-up cell\n",
    "USE_GPU = True\n",
    "dtype = torch.float32\n",
    "if USE_GPU and torch.cuda.is_available():\n",
    "    device = torch.device('cuda')\n",
    "else:\n",
    "    device = torch.device('cpu')\n",
    "print('using device:', device)"
   ]
  },
  {
   "cell_type": "code",
   "execution_count": 3,
   "metadata": {
    "colab": {
     "base_uri": "https://localhost:8080/"
    },
    "executionInfo": {
     "elapsed": 16404,
     "status": "ok",
     "timestamp": 1653709378184,
     "user": {
      "displayName": "Erich Trieschman",
      "userId": "04527634189755173835"
     },
     "user_tz": 420
    },
    "id": "thWrQMLvR0KC",
    "outputId": "9a616c02-3e66-4321-877a-e1ab4fd71f48"
   },
   "outputs": [],
   "source": [
    "# directory setup cell\n",
    "repo = 'tree-finder/'\n",
    "location = 'aws'\n",
    "save_mode = False\n",
    "\n",
    "# Local paths\n",
    "local_root = '/Users/etriesch/dev/'\n",
    "colab_root = '/content/drive/My Drive/git/'\n",
    "aws_root = '/home/ec2-user/'\n",
    "\n",
    "# define root\n",
    "if location == 'local':\n",
    "  root = local_root\n",
    "elif location == 'google':\n",
    "  from google.colab import drive\n",
    "  drive.mount('/content/drive', force_remount=True)\n",
    "  root = colab_root\n",
    "elif location == 'aws':\n",
    "  root = aws_root\n",
    "\n",
    "repo_path = root + repo\n",
    "model_path = repo_path + 'models/'\n",
    "data_path = repo_path + 'data/'\n",
    "results_path = repo_path + 'results/'\n",
    "sys.path.append(repo_path)"
   ]
  },
  {
   "cell_type": "code",
   "execution_count": 4,
   "metadata": {
    "executionInfo": {
     "elapsed": 2632,
     "status": "ok",
     "timestamp": 1653709380810,
     "user": {
      "displayName": "Erich Trieschman",
      "userId": "04527634189755173835"
     },
     "user_tz": 420
    },
    "id": "3f956960-9882-47ad-a208-bc478e1e0986"
   },
   "outputs": [],
   "source": [
    "# setup cell\n",
    "from notebooks.viz_fns import show_image_batch, set_plt_settings\n",
    "from notebooks.viz_fns import plot_accs\n",
    "from notebooks.train_fns import Flatten, train_model\n",
    "from notebooks.data_processing import define_transforms, make_dataloaders, IMAGE_DIM, MEAN, STD\n",
    "from notebooks.models import ResnetTransferClassifier, ConvnextTransferClassifier, TransformerTransferClassifier\n",
    "from notebooks.scrape_fns import get_filelist\n",
    "\n",
    "set_plt_settings()"
   ]
  },
  {
   "cell_type": "markdown",
   "metadata": {
    "id": "d794f2a1-c69f-4776-aed3-a77ae57ec094"
   },
   "source": [
    "# Make dataset and loaders\n",
    "This includes augmenting my dataset"
   ]
  },
  {
   "cell_type": "code",
   "execution_count": 5,
   "metadata": {
    "executionInfo": {
     "elapsed": 6986,
     "status": "ok",
     "timestamp": 1653709387793,
     "user": {
      "displayName": "Erich Trieschman",
      "userId": "04527634189755173835"
     },
     "user_tz": 420
    },
    "id": "d7f4427f-704e-4f55-9b50-3e4e9ea9a94f"
   },
   "outputs": [],
   "source": [
    "# define transformations\n",
    "transforms = define_transforms(scale_up=1024, crop=1024, scale_out=IMAGE_DIM, mean=MEAN, std=STD, mirror=True, randomcrop=[10,25,50])\n",
    "# create dataset by concatenating all transformations\n",
    "treeds = []\n",
    "for t in transforms:\n",
    "    df = dset.ImageFolder(root=data_path + 'images_spec', transform=transforms[t])\n",
    "    treeds.append(df)\n",
    "\n",
    "treeds = ConcatDataset(treeds)\n",
    "class_names = treeds.datasets[0].classes"
   ]
  },
  {
   "cell_type": "code",
   "execution_count": 6,
   "metadata": {
    "colab": {
     "base_uri": "https://localhost:8080/"
    },
    "executionInfo": {
     "elapsed": 136,
     "status": "ok",
     "timestamp": 1653710081716,
     "user": {
      "displayName": "Erich Trieschman",
      "userId": "04527634189755173835"
     },
     "user_tz": 420
    },
    "id": "0ca9fc20-3b81-4255-b137-aa037f8408e8",
    "outputId": "5d292184-e338-45a0-ab3d-489eab2ae89a"
   },
   "outputs": [
    {
     "name": "stdout",
     "output_type": "stream",
     "text": [
      "\n",
      "images meeting threshold (0.85): 24944 (75.97%)\n",
      "dataloader sizes: {'all': 24944, 'train': 16836, 'validate': 5613, 'test': 2495, 'sampler': 4}\n"
     ]
    }
   ],
   "source": [
    "# load image scores\n",
    "filename = 'images_spec_realtree_pcts.csv'\n",
    "realtree_likelihood = np.loadtxt(data_path + filename).astype(float).tolist()\n",
    "\n",
    "# subset based on threshold\n",
    "threshold=0.85\n",
    "flag = np.array(realtree_likelihood) > threshold\n",
    "realtree_idxs = (np.arange(0, len(flag))[flag]).tolist()\n",
    "print(f'\\nimages meeting threshold ({threshold}): {sum(flag)} ({sum(flag)/len(flag):0.2%})')\n",
    "# realtree_idxs = None\n",
    "\n",
    "# make dataloaders with the subset data\n",
    "dataloaders, ds_sizes = make_dataloaders(\n",
    "    dataset=treeds, subset=realtree_idxs, test_split=0.10, val_split=0.25, \n",
    "    sampleN=4, batch_size=32, seed=1)"
   ]
  },
  {
   "cell_type": "markdown",
   "metadata": {
    "id": "58caf3f1-8369-46c4-9bec-5d6901be8a32"
   },
   "source": [
    "# Baseline models"
   ]
  },
  {
   "cell_type": "code",
   "execution_count": 9,
   "metadata": {
    "colab": {
     "base_uri": "https://localhost:8080/"
    },
    "executionInfo": {
     "elapsed": 5,
     "status": "ok",
     "timestamp": 1653709387962,
     "user": {
      "displayName": "Erich Trieschman",
      "userId": "04527634189755173835"
     },
     "user_tz": 420
    },
    "id": "R0bFL4J9-KHn",
    "outputId": "87d10489-7de5-4eda-dec8-2c38f1d5de3e"
   },
   "outputs": [
    {
     "name": "stdout",
     "output_type": "stream",
     "text": [
      "dataloader sizes: {'all': 30, 'train': 21, 'validate': 8, 'test': 1, 'sampler': 4}\n",
      "Performance of random chance: 0.14285714285714285\n"
     ]
    }
   ],
   "source": [
    "# define small loader for testing\n",
    "random_idxs = np.random.choice(range(len(treeds)), 30).tolist()\n",
    "small_loaders, small_ds_sizes = make_dataloaders(\n",
    "    dataset=treeds, subset=random_idxs, test_split=0.01, val_split=0.25, \n",
    "    sampleN=4, batch_size=10, seed=1)\n",
    "\n",
    "# setup testing parameters\n",
    "# loaders = small_loaders\n",
    "# sizes = small_ds_sizes\n",
    "loaders = dataloaders\n",
    "sizes = ds_sizes\n",
    "\n",
    "# define some constants\n",
    "num_epochs = 4\n",
    "num_epochs_baseline = 2\n",
    "lr_decay_step_size = 3\n",
    "\n",
    "print(f'Performance of random chance:', 1 / len(class_names))"
   ]
  },
  {
   "cell_type": "markdown",
   "metadata": {
    "id": "iZVGL5jFusq3"
   },
   "source": [
    "## Softmax"
   ]
  },
  {
   "cell_type": "code",
   "execution_count": 11,
   "metadata": {
    "colab": {
     "base_uri": "https://localhost:8080/",
     "height": 442
    },
    "executionInfo": {
     "elapsed": 76317,
     "status": "ok",
     "timestamp": 1653709468064,
     "user": {
      "displayName": "Erich Trieschman",
      "userId": "04527634189755173835"
     },
     "user_tz": 420
    },
    "id": "Z-ghya0kurtf",
    "outputId": "fbf597a8-5e1b-480c-c030-12666d1a1500"
   },
   "outputs": [
    {
     "name": "stderr",
     "output_type": "stream",
     "text": [
      "train epoch: [1/3] Loss: -0.2238 ACC@1: 22.46%: 100%|█| 527/527 [2:46:58<00:00, \n",
      "validate epoch: [1/3] Loss: -0.2232 ACC@1: 22.36%: 100%|█| 176/176 [53:50<00:00,\n",
      "train epoch: [2/3] Loss: -0.2292 ACC@1: 22.94%: 100%|█| 527/527 [2:41:24<00:00, \n",
      "validate epoch: [2/3] Loss: -0.2129 ACC@1: 21.34%: 100%|█| 176/176 [53:52<00:00,\n",
      "train epoch: [3/3] Loss: -0.2324 ACC@1: 23.27%: 100%|█| 527/527 [2:42:39<00:00, \n",
      "validate epoch: [3/3] Loss: -0.2203 ACC@1: 22.07%: 100%|█| 176/176 [53:47<00:00,\n"
     ]
    },
    {
     "name": "stdout",
     "output_type": "stream",
     "text": [
      "\n",
      "Returning best model, with validation accuracy 0.2235880990557634\n"
     ]
    },
    {
     "data": {
      "image/png": "[encoded data removed]",
      "text/plain": [
       "<Figure size 1080x360 with 1 Axes>"
      ]
     },
     "metadata": {
      "needs_background": "light"
     },
     "output_type": "display_data"
    }
   ],
   "source": [
    "model_name = 'SoftmaxClassifier'\n",
    "\n",
    "# define the model, optimizer, and scheduler (for lr decay)\n",
    "model_sm = nn.Sequential(\n",
    "    Flatten(),\n",
    "    nn.Linear(IMAGE_DIM*IMAGE_DIM*3, len(class_names)),\n",
    "    nn.Softmax(dim=1)\n",
    "    ).to(device)\n",
    "optimizer = optim.SGD(model_sm.parameters(), lr=0.001, momentum=0.9, nesterov=True)\n",
    "schedlr = lr_scheduler.StepLR(optimizer, step_size=lr_decay_step_size, gamma=0.1) # lr decay\n",
    "criterion = nn.NLLLoss()\n",
    "acc_sm = train_model(model_sm, criterion, optimizer, schedlr,\n",
    "                             loaders, sizes, device, model_path, num_epochs_baseline)\n",
    "plot_accs({key: acc_sm[key] for key in ['epoch_train', 'epoch_validate']})\n",
    "\n",
    "# save to file\n",
    "if save_mode:\n",
    "    # MODEL\n",
    "    torch.save(model_sm.state_dict(), model_path + f'{model_name}.pt')\n",
    "    # RESULTS\n",
    "    filename = f'acc_{model_name}.csv'\n",
    "    epoch_results = pd.DataFrame({key: torch.Tensor(acc_sm[key]) for key in ['epoch_train', 'epoch_validate']})\n",
    "    epoch_results.to_csv(results_path + filename)"
   ]
  },
  {
   "cell_type": "markdown",
   "metadata": {
    "id": "dIxvHmDrGP6j",
    "tags": []
   },
   "source": [
    "## Hinge loss (SVM)"
   ]
  },
  {
   "cell_type": "code",
   "execution_count": 12,
   "metadata": {
    "colab": {
     "base_uri": "https://localhost:8080/",
     "height": 740
    },
    "executionInfo": {
     "elapsed": 58054,
     "status": "ok",
     "timestamp": 1653709596294,
     "user": {
      "displayName": "Erich Trieschman",
      "userId": "04527634189755173835"
     },
     "user_tz": 420
    },
    "id": "Nhewz_FCGMlN",
    "outputId": "bb389707-a32c-4904-a291-0a6a525a7a37",
    "tags": []
   },
   "outputs": [
    {
     "name": "stderr",
     "output_type": "stream",
     "text": [
      "  0%|                                                   | 0/527 [00:00<?, ?it/s]/opt/conda/envs/pytorch/lib/python3.9/site-packages/torch/nn/functional.py:3500: UserWarning: An output with one or more elements was resized since it had shape [], which does not match the required output shape [32].This behavior is deprecated, and in a future PyTorch release outputs will not be resized unless they have zero elements. You can explicitly reuse an out tensor t by resizing it, inplace, to zero elements with t.resize_(0). (Triggered internally at  /opt/conda/conda-bld/pytorch_1646755888534/work/aten/src/ATen/native/Resize.cpp:24.)\n",
      "  return torch._C._nn.multi_margin_loss(input, target, p, margin, weight, reduction_enum)\n",
      "/opt/conda/envs/pytorch/lib/python3.9/site-packages/torch/nn/functional.py:3500: UserWarning: An output with one or more elements was resized since it had shape [32], which does not match the required output shape [].This behavior is deprecated, and in a future PyTorch release outputs will not be resized unless they have zero elements. You can explicitly reuse an out tensor t by resizing it, inplace, to zero elements with t.resize_(0). (Triggered internally at  /opt/conda/conda-bld/pytorch_1646755888534/work/aten/src/ATen/native/Resize.cpp:24.)\n",
      "  return torch._C._nn.multi_margin_loss(input, target, p, margin, weight, reduction_enum)\n",
      "/opt/conda/envs/pytorch/lib/python3.9/site-packages/torch/autograd/__init__.py:173: UserWarning: An output with one or more elements was resized since it had shape [], which does not match the required output shape [32, 7].This behavior is deprecated, and in a future PyTorch release outputs will not be resized unless they have zero elements. You can explicitly reuse an out tensor t by resizing it, inplace, to zero elements with t.resize_(0). (Triggered internally at  /opt/conda/conda-bld/pytorch_1646755888534/work/aten/src/ATen/native/Resize.cpp:24.)\n",
      "  Variable._execution_engine.run_backward(  # Calls into the C++ engine to run the backward pass\n",
      "train epoch: [1/3] Loss: 5.5066 ACC@1: 19.62%: 100%|▉| 526/527 [2:51:12<00:16, 1/opt/conda/envs/pytorch/lib/python3.9/site-packages/torch/nn/functional.py:3500: UserWarning: An output with one or more elements was resized since it had shape [], which does not match the required output shape [4].This behavior is deprecated, and in a future PyTorch release outputs will not be resized unless they have zero elements. You can explicitly reuse an out tensor t by resizing it, inplace, to zero elements with t.resize_(0). (Triggered internally at  /opt/conda/conda-bld/pytorch_1646755888534/work/aten/src/ATen/native/Resize.cpp:24.)\n",
      "  return torch._C._nn.multi_margin_loss(input, target, p, margin, weight, reduction_enum)\n",
      "/opt/conda/envs/pytorch/lib/python3.9/site-packages/torch/nn/functional.py:3500: UserWarning: An output with one or more elements was resized since it had shape [4], which does not match the required output shape [].This behavior is deprecated, and in a future PyTorch release outputs will not be resized unless they have zero elements. You can explicitly reuse an out tensor t by resizing it, inplace, to zero elements with t.resize_(0). (Triggered internally at  /opt/conda/conda-bld/pytorch_1646755888534/work/aten/src/ATen/native/Resize.cpp:24.)\n",
      "  return torch._C._nn.multi_margin_loss(input, target, p, margin, weight, reduction_enum)\n",
      "/opt/conda/envs/pytorch/lib/python3.9/site-packages/torch/autograd/__init__.py:173: UserWarning: An output with one or more elements was resized since it had shape [], which does not match the required output shape [4, 7].This behavior is deprecated, and in a future PyTorch release outputs will not be resized unless they have zero elements. You can explicitly reuse an out tensor t by resizing it, inplace, to zero elements with t.resize_(0). (Triggered internally at  /opt/conda/conda-bld/pytorch_1646755888534/work/aten/src/ATen/native/Resize.cpp:24.)\n",
      "  Variable._execution_engine.run_backward(  # Calls into the C++ engine to run the backward pass\n",
      "train epoch: [1/3] Loss: 5.5085 ACC@1: 19.62%: 100%|█| 527/527 [2:51:14<00:00, 1\n",
      "validate epoch: [1/3] Loss: 6.5134 ACC@1: 18.68%:  99%|▉| 175/176 [58:00<00:20, /opt/conda/envs/pytorch/lib/python3.9/site-packages/torch/nn/functional.py:3500: UserWarning: An output with one or more elements was resized since it had shape [], which does not match the required output shape [13].This behavior is deprecated, and in a future PyTorch release outputs will not be resized unless they have zero elements. You can explicitly reuse an out tensor t by resizing it, inplace, to zero elements with t.resize_(0). (Triggered internally at  /opt/conda/conda-bld/pytorch_1646755888534/work/aten/src/ATen/native/Resize.cpp:24.)\n",
      "  return torch._C._nn.multi_margin_loss(input, target, p, margin, weight, reduction_enum)\n",
      "/opt/conda/envs/pytorch/lib/python3.9/site-packages/torch/nn/functional.py:3500: UserWarning: An output with one or more elements was resized since it had shape [13], which does not match the required output shape [].This behavior is deprecated, and in a future PyTorch release outputs will not be resized unless they have zero elements. You can explicitly reuse an out tensor t by resizing it, inplace, to zero elements with t.resize_(0). (Triggered internally at  /opt/conda/conda-bld/pytorch_1646755888534/work/aten/src/ATen/native/Resize.cpp:24.)\n",
      "  return torch._C._nn.multi_margin_loss(input, target, p, margin, weight, reduction_enum)\n",
      "validate epoch: [1/3] Loss: 6.5187 ACC@1: 18.67%: 100%|█| 176/176 [58:09<00:00, \n",
      "train epoch: [2/3] Loss: 5.7195 ACC@1: 21.69%: 100%|█| 527/527 [2:55:24<00:00, 1\n",
      "validate epoch: [2/3] Loss: 6.6247 ACC@1: 18.94%: 100%|█| 176/176 [58:04<00:00, \n",
      "train epoch: [3/3] Loss: 3.3473 ACC@1: 27.80%: 100%|█| 527/527 [2:55:26<00:00, 1\n",
      "validate epoch: [3/3] Loss: 3.3545 ACC@1: 19.62%: 100%|█| 176/176 [58:04<00:00, \n"
     ]
    },
    {
     "name": "stdout",
     "output_type": "stream",
     "text": [
      "\n",
      "Returning best model, with validation accuracy 0.19615179048637094\n"
     ]
    },
    {
     "data": {
      "image/png": "[encoded data removed]",
      "text/plain": [
       "<Figure size 1080x360 with 1 Axes>"
      ]
     },
     "metadata": {
      "needs_background": "light"
     },
     "output_type": "display_data"
    }
   ],
   "source": [
    "model_name = 'HingeClassifier'\n",
    "\n",
    "# define model\n",
    "model_mh = nn.Sequential(\n",
    "    Flatten(),\n",
    "    nn.Linear(IMAGE_DIM*IMAGE_DIM*3, len(class_names))\n",
    "    ).to(device)\n",
    "optimizer = optim.SGD(model_mh.parameters(), lr=0.001, momentum=0.9, nesterov=True)\n",
    "schedlr = lr_scheduler.StepLR(optimizer, step_size=2, gamma=0.1) # lr decay\n",
    "criterion = nn.MultiMarginLoss()\n",
    "# run model and plot results\n",
    "acc_mh = train_model(model_mh, criterion, optimizer, schedlr,\n",
    "                     loaders, sizes, device, model_path, num_epochs_baseline)\n",
    "plot_accs({key: acc_mh[key] for key in ['epoch_train', 'epoch_validate']})\n",
    "\n",
    "# save to file\n",
    "if save_mode:\n",
    "    # MODEL\n",
    "    torch.save(model_mh.state_dict(), model_path + f'{model_name}.pt')\n",
    "    # RESULTS\n",
    "    filename = f'acc_{model_name}.csv'\n",
    "    epoch_results = pd.DataFrame({key: torch.Tensor(acc_mh[key]) for key in ['epoch_train', 'epoch_validate']})\n",
    "    epoch_results.to_csv(results_path + filename)"
   ]
  },
  {
   "cell_type": "markdown",
   "metadata": {
    "id": "6baaf993-0898-4c7e-973c-1d1386c9f5c9"
   },
   "source": [
    "## 2-layer fully connected net"
   ]
  },
  {
   "cell_type": "code",
   "execution_count": 19,
   "metadata": {
    "colab": {
     "base_uri": "https://localhost:8080/",
     "height": 442
    },
    "collapsed": true,
    "executionInfo": {
     "elapsed": 52155,
     "status": "ok",
     "timestamp": 1653710820111,
     "user": {
      "displayName": "Erich Trieschman",
      "userId": "04527634189755173835"
     },
     "user_tz": 420
    },
    "id": "XM-GwLQ4Olz5",
    "jupyter": {
     "outputs_hidden": true
    },
    "outputId": "21c0c2f6-94db-4952-8efd-8b2d8e609d59",
    "tags": []
   },
   "outputs": [
    {
     "name": "stderr",
     "output_type": "stream",
     "text": [
      "train epoch: [1/1] Loss: 2.0334 ACC@1: 19.05%: 100%|█| 3/3 [00:16<00:00,  5.45s/i\n",
      "validate epoch: [1/1] Loss: 3.8804 ACC@1: 12.50%: 100%|█| 1/1 [00:01<00:00,  1.05\n"
     ]
    },
    {
     "name": "stdout",
     "output_type": "stream",
     "text": [
      "\n",
      "Returning best model, with validation accuracy 0.125\n"
     ]
    },
    {
     "data": {
      "image/png": "[encoded data removed]",
      "text/plain": [
       "<Figure size 1080x360 with 1 Axes>"
      ]
     },
     "metadata": {
      "needs_background": "light"
     },
     "output_type": "display_data"
    }
   ],
   "source": [
    "model_name = 'TwoLayerFC'\n",
    "\n",
    "# define model\n",
    "hidden_layer_size = 500\n",
    "model_fc = nn.Sequential(\n",
    "    Flatten(),\n",
    "    nn.Linear(IMAGE_DIM*IMAGE_DIM*3, hidden_layer_size),\n",
    "    nn.ReLU(),\n",
    "    nn.Linear(hidden_layer_size, len(class_names))\n",
    "    ).to(device)\n",
    "optimizer = optim.SGD(model_fc.parameters(), lr=0.001, momentum=0.9, nesterov=True)\n",
    "schedlr = lr_scheduler.StepLR(optimizer, step_size=2, gamma=0.1) # lr decay\n",
    "criterion = nn.CrossEntropyLoss()\n",
    "# run model and plot results\n",
    "acc_fc = train_model(model_fc, criterion, optimizer, schedlr,\n",
    "                     loaders, sizes, device, model_path, num_epochs_baseline)\n",
    "plot_accs({key: acc_fc[key] for key in ['epoch_train', 'epoch_validate']})\n",
    "\n",
    "# save to file\n",
    "if save_mode:\n",
    "    # MODEL\n",
    "    torch.save(model_fc.state_dict(), model_path + f'{model_name}.pt')\n",
    "    # RESULTS\n",
    "    filename = f'acc_{model_name}.csv'\n",
    "    epoch_results = pd.DataFrame({key: torch.Tensor(acc_fc[key]) for key in ['epoch_train', 'epoch_validate']})\n",
    "    epoch_results.to_csv(results_path + filename)"
   ]
  },
  {
   "cell_type": "markdown",
   "metadata": {
    "id": "7Uj50Bl_PfNO"
   },
   "source": [
    "## 3-layer ConvNet"
   ]
  },
  {
   "cell_type": "code",
   "execution_count": 13,
   "metadata": {
    "colab": {
     "base_uri": "https://localhost:8080/",
     "height": 442
    },
    "executionInfo": {
     "elapsed": 51446,
     "status": "ok",
     "timestamp": 1653709647719,
     "user": {
      "displayName": "Erich Trieschman",
      "userId": "04527634189755173835"
     },
     "user_tz": 420
    },
    "id": "_XVhOTxCPmXe",
    "outputId": "31dd1516-dd07-46e7-d67f-d14fc3080ce4",
    "tags": []
   },
   "outputs": [
    {
     "name": "stderr",
     "output_type": "stream",
     "text": [
      "train epoch: [1/3] Loss: 1.8416 ACC@1: 26.28%: 100%|█| 527/527 [2:56:09<00:00, 2\n",
      "validate epoch: [1/3] Loss: 1.7990 ACC@1: 29.25%: 100%|█| 176/176 [58:36<00:00, \n",
      "train epoch: [2/3] Loss: 1.7357 ACC@1: 32.82%: 100%|█| 527/527 [2:56:06<00:00, 2\n",
      "validate epoch: [2/3] Loss: 1.7384 ACC@1: 31.00%: 100%|█| 176/176 [58:32<00:00, \n",
      "train epoch: [3/3] Loss: 1.6021 ACC@1: 40.59%: 100%|█| 527/527 [2:56:11<00:00, 2\n",
      "validate epoch: [3/3] Loss: 1.7297 ACC@1: 32.75%: 100%|█| 176/176 [58:18<00:00, \n"
     ]
    },
    {
     "name": "stdout",
     "output_type": "stream",
     "text": [
      "\n",
      "Returning best model, with validation accuracy 0.3274541243541778\n"
     ]
    },
    {
     "data": {
      "image/png": "[encoded data removed]",
      "text/plain": [
       "<Figure size 1080x360 with 1 Axes>"
      ]
     },
     "metadata": {
      "needs_background": "light"
     },
     "output_type": "display_data"
    }
   ],
   "source": [
    "model_name = 'ThreeLayerCNN'\n",
    "\n",
    "# define model\n",
    "channel_1 = 32\n",
    "channel_2 = 16\n",
    "# padding chosen to preserve original H/W dimensions\n",
    "model_cn = nn.Sequential(\n",
    "    nn.Conv2d(in_channels=3, out_channels=channel_1, kernel_size=5, padding=(5 - 1)//2),\n",
    "    nn.ReLU(),\n",
    "    nn.Conv2d(in_channels=channel_1, out_channels=channel_2, kernel_size=3, padding=(3 - 1)//2),\n",
    "    nn.ReLU(), \n",
    "    Flatten(),\n",
    "    nn.Linear(channel_2*IMAGE_DIM*IMAGE_DIM, len(class_names))\n",
    "    ).to(device)\n",
    "optimizer_cn = optim.SGD(model_cn.parameters(), lr=0.001, momentum=0.9, nesterov=True)\n",
    "schedlr_cn = lr_scheduler.StepLR(optimizer_cn, step_size=2, gamma=0.1) # lr decay\n",
    "criterion_cn = nn.CrossEntropyLoss()\n",
    "# run model and plot results\n",
    "acc_cn = train_model(model_cn, criterion_cn, optimizer_cn, schedlr_cn,\n",
    "                     loaders, sizes, device, model_path, num_epochs_baseline)\n",
    "plot_accs({key: acc_cn[key] for key in ['epoch_train', 'epoch_validate']})\n",
    "\n",
    "# save to file\n",
    "if save_mode:\n",
    "    # MODEL\n",
    "    torch.save(model_cn.state_dict(), model_path + f'{model_name}.pt')\n",
    "    # RESULTS\n",
    "    filename = f'acc_{model_name}.csv'\n",
    "    epoch_results = pd.DataFrame({key: torch.Tensor(acc_cn[key]) for key in ['epoch_train', 'epoch_validate']})\n",
    "    epoch_results.to_csv(results_path + filename)"
   ]
  },
  {
   "cell_type": "markdown",
   "metadata": {
    "id": "KUJzdzMT_tWt"
   },
   "source": [
    "## Summarize"
   ]
  },
  {
   "cell_type": "code",
   "execution_count": null,
   "metadata": {
    "colab": {
     "base_uri": "https://localhost:8080/"
    },
    "executionInfo": {
     "elapsed": 146,
     "status": "ok",
     "timestamp": 1653709770493,
     "user": {
      "displayName": "Erich Trieschman",
      "userId": "04527634189755173835"
     },
     "user_tz": 420
    },
    "id": "yTJRDh5-_vDZ",
    "outputId": "c136689e-ac7d-4f58-a6ff-80cf63a06e11"
   },
   "outputs": [],
   "source": [
    "key = 'epoch_validate'\n",
    "\n",
    "baseline_results = {\n",
    "    'softmax': max(acc_sm[key]),\n",
    "    'svm': max(acc_mh[key]),\n",
    "    '2layer_fc': max(acc_fc[key]),\n",
    "    '3layer_cnn':max(acc_cn[key])\n",
    "}\n",
    "baseline_results"
   ]
  },
  {
   "cell_type": "markdown",
   "metadata": {
    "id": "CsqreSpmcPzR"
   },
   "source": [
    "# Transfer learning models"
   ]
  },
  {
   "cell_type": "markdown",
   "metadata": {
    "id": "0ZXmoooBk68m"
   },
   "source": [
    "## Training only the last fully connected layer"
   ]
  },
  {
   "cell_type": "markdown",
   "metadata": {
    "id": "iH3x59SXtQM9"
   },
   "source": [
    "### Resnet"
   ]
  },
  {
   "cell_type": "code",
   "execution_count": 8,
   "metadata": {
    "colab": {
     "base_uri": "https://localhost:8080/",
     "height": 442
    },
    "executionInfo": {
     "elapsed": 52415,
     "status": "ok",
     "timestamp": 1653709855590,
     "user": {
      "displayName": "Erich Trieschman",
      "userId": "04527634189755173835"
     },
     "user_tz": 420
    },
    "id": "uXSpS1sLtMYD",
    "outputId": "c728aaf7-0eb2-4109-8017-d95743aedb77"
   },
   "outputs": [
    {
     "name": "stderr",
     "output_type": "stream",
     "text": [
      "train epoch: [1/6] Loss: 1.8768 ACC@1: 24.76%:  22%|▏| 118/527 [39:55<2:20:49, 2/opt/conda/envs/pytorch/lib/python3.9/site-packages/PIL/Image.py:945: UserWarning: Palette images with Transparency expressed in bytes should be converted to RGBA images\n",
      "  warnings.warn(\n",
      "train epoch: [1/6] Loss: 1.6456 ACC@1: 39.66%: 100%|█| 527/527 [2:52:27<00:00, 1\n",
      "validate epoch: [1/6] Loss: 1.4112 ACC@1: 49.17%: 100%|█| 176/176 [56:38<00:00, \n",
      "train epoch: [2/6] Loss: 1.3315 ACC@1: 52.76%: 100%|█| 527/527 [2:52:20<00:00, 1\n",
      "validate epoch: [2/6] Loss: 1.2601 ACC@1: 54.39%: 100%|█| 176/176 [56:38<00:00, \n",
      "train epoch: [3/6] Loss: 1.2450 ACC@1: 56.28%: 100%|█| 527/527 [2:52:00<00:00, 1\n",
      "validate epoch: [3/6] Loss: 1.2376 ACC@1: 56.21%: 100%|█| 176/176 [56:54<00:00, \n",
      "train epoch: [4/6] Loss: 1.2337 ACC@1: 56.39%: 100%|█| 527/527 [2:50:47<00:00, 1\n",
      "validate epoch: [4/6] Loss: 1.2197 ACC@1: 55.94%: 100%|█| 176/176 [56:44<00:00, \n",
      "train epoch: [5/6] Loss: 1.2245 ACC@1: 57.21%: 100%|█| 527/527 [2:51:02<00:00, 1\n",
      "validate epoch: [5/6] Loss: 1.2201 ACC@1: 56.12%: 100%|█| 176/176 [56:44<00:00, \n",
      "train epoch: [6/6] Loss: 1.2195 ACC@1: 57.07%: 100%|█| 527/527 [2:51:13<00:00, 1\n",
      "validate epoch: [6/6] Loss: 1.2209 ACC@1: 56.07%: 100%|█| 176/176 [56:43<00:00, "
     ]
    },
    {
     "name": "stdout",
     "output_type": "stream",
     "text": [
      "\n",
      "Returning best model, with validation accuracy 0.5620880099768395\n"
     ]
    },
    {
     "name": "stderr",
     "output_type": "stream",
     "text": [
      "\n"
     ]
    },
    {
     "data": {
      "image/png": "[encoded data removed]",
      "text/plain": [
       "<Figure size 1080x360 with 1 Axes>"
      ]
     },
     "metadata": {
      "needs_background": "light"
     },
     "output_type": "display_data"
    }
   ],
   "source": [
    "model_name = 'ResnetClassifierFC'\n",
    "\n",
    "m_resnet = ResnetTransferClassifier(num_classes=len(class_names), retrain_last_cnblock=False)\n",
    "m_resnet = m_resnet.to(device)\n",
    "optimizer = optim.SGD(m_resnet.parameters(), lr=0.001, momentum=0.9, nesterov=True)\n",
    "schedlr = lr_scheduler.StepLR(optimizer, step_size=2, gamma=0.1) # lr decay\n",
    "criterion = nn.CrossEntropyLoss()\n",
    "acc_res = train_model(m_resnet, criterion, optimizer, schedlr,\n",
    "                      loaders, sizes, device, model_path, num_epochs)\n",
    "plot_accs({key: acc_res[key] for key in ['epoch_train', 'epoch_validate']})\n",
    "\n",
    "# save to file\n",
    "if save_mode:\n",
    "    # MODEL\n",
    "    torch.save(m_resnet.state_dict(), model_path + f'{model_name}.pt')\n",
    "    # RESULTS\n",
    "    filename = f'acc_{model_name}.csv'\n",
    "    epoch_results = pd.DataFrame({key: torch.Tensor(acc_res[key]) for key in ['epoch_train', 'epoch_validate']})\n",
    "    epoch_results.to_csv(results_path + filename)"
   ]
  },
  {
   "cell_type": "markdown",
   "metadata": {
    "id": "qB1UGm-iuIh7"
   },
   "source": [
    "### Convnext"
   ]
  },
  {
   "cell_type": "code",
   "execution_count": 10,
   "metadata": {
    "colab": {
     "base_uri": "https://localhost:8080/",
     "height": 492,
     "referenced_widgets": [
      "a47009b557cb442595eae5cd0b852c6a",
      "11bbc69086134d3d926fb802b5bdc503",
      "d6135bcb87e54bd5b64882abcc2dcadf",
      "25590a6ff7c449df9983778f39f48bc3",
      "a82bd38ae7f144d0a0522d5474da71bc",
      "3e25d3c0117b4aebb2b1892f821d3359",
      "48fed15a51c74b3a9f281272ba34edd8",
      "fba5a5d6211a4bd5b5978bd78d258c0d",
      "6b8cc47b503a4099ae451a04fef9fb80",
      "9fe365c04a2b43f7ac06a43d5703a4f8",
      "95117449e34d4813bc326e5034418f5f"
     ]
    },
    "executionInfo": {
     "elapsed": 52636,
     "status": "ok",
     "timestamp": 1653709908596,
     "user": {
      "displayName": "Erich Trieschman",
      "userId": "04527634189755173835"
     },
     "user_tz": 420
    },
    "id": "Duqu-QEtuDSL",
    "outputId": "a9504f32-0321-4341-dbc5-6dd536b16d78"
   },
   "outputs": [
    {
     "name": "stderr",
     "output_type": "stream",
     "text": [
      "train epoch: [1/6] Loss: 1.8740 ACC@1: 29.00%:  22%|▏| 118/527 [39:38<2:18:53, 2/opt/conda/envs/pytorch/lib/python3.9/site-packages/PIL/Image.py:945: UserWarning: Palette images with Transparency expressed in bytes should be converted to RGBA images\n",
      "  warnings.warn(\n",
      "train epoch: [1/6] Loss: 1.6191 ACC@1: 42.77%: 100%|█| 527/527 [2:53:47<00:00, 1\n",
      "validate epoch: [1/6] Loss: 1.3352 ACC@1: 52.34%: 100%|█| 176/176 [57:15<00:00, \n",
      "train epoch: [2/6] Loss: 1.2251 ACC@1: 56.39%: 100%|█| 527/527 [2:54:13<00:00, 1\n",
      "validate epoch: [2/6] Loss: 1.1332 ACC@1: 60.40%: 100%|█| 176/176 [57:22<00:00, \n",
      "train epoch: [3/6] Loss: 1.1214 ACC@1: 60.73%: 100%|█| 527/527 [2:51:59<00:00, 1\n",
      "validate epoch: [3/6] Loss: 1.1113 ACC@1: 60.63%: 100%|█| 176/176 [56:50<00:00, \n",
      "train epoch: [4/6] Loss: 1.1121 ACC@1: 61.43%: 100%|█| 527/527 [2:53:58<00:00, 1\n",
      "validate epoch: [4/6] Loss: 1.0988 ACC@1: 61.48%: 100%|█| 176/176 [57:10<00:00, \n",
      "train epoch: [5/6] Loss: 1.1021 ACC@1: 61.80%: 100%|█| 527/527 [2:53:20<00:00, 1\n",
      "validate epoch: [5/6] Loss: 1.0992 ACC@1: 61.09%: 100%|█| 176/176 [57:23<00:00, \n",
      "train epoch: [6/6] Loss: 1.0948 ACC@1: 61.90%: 100%|█| 527/527 [2:52:39<00:00, 1\n",
      "validate epoch: [6/6] Loss: 1.0968 ACC@1: 60.79%: 100%|█| 176/176 [56:59<00:00, \n"
     ]
    },
    {
     "name": "stdout",
     "output_type": "stream",
     "text": [
      "\n",
      "Returning best model, with validation accuracy 0.6148227329413861\n"
     ]
    },
    {
     "data": {
      "image/png": "[encoded data removed]",
      "text/plain": [
       "<Figure size 1080x360 with 1 Axes>"
      ]
     },
     "metadata": {
      "needs_background": "light"
     },
     "output_type": "display_data"
    }
   ],
   "source": [
    "model_name = 'ConvNextClassifierFC'\n",
    "\n",
    "m_convnext = ConvnextTransferClassifier(num_classes=len(class_names), retrain_last_cnblock=False)\n",
    "m_convnext = m_convnext.to(device)\n",
    "optimizer = optim.SGD(m_convnext.parameters(), lr=0.001, momentum=0.9, nesterov=True)\n",
    "schedlr = lr_scheduler.StepLR(optimizer, step_size=2, gamma=0.1) # lr decay\n",
    "criterion = nn.CrossEntropyLoss()\n",
    "acc_convnext = train_model(m_convnext, criterion, optimizer, schedlr,\n",
    "                           loaders, sizes, device, model_path, num_epochs)\n",
    "plot_accs({key: acc_convnext[key] for key in ['epoch_train', 'epoch_validate']})\n",
    "\n",
    "# save to file\n",
    "if save_mode:\n",
    "    # MODEL\n",
    "    torch.save(m_convnext.state_dict(), model_path + f'{model_name}.pt')\n",
    "    # RESULTS\n",
    "    filename = f'acc_{model_name}.csv'\n",
    "    epoch_results = pd.DataFrame({key: torch.Tensor(acc_convnext[key]) for key in ['epoch_train', 'epoch_validate']})\n",
    "    epoch_results.to_csv(results_path + filename)"
   ]
  },
  {
   "cell_type": "markdown",
   "metadata": {
    "id": "hwFCUJpeubap"
   },
   "source": [
    "### Transformer"
   ]
  },
  {
   "cell_type": "code",
   "execution_count": 18,
   "metadata": {
    "colab": {
     "base_uri": "https://localhost:8080/",
     "height": 492,
     "referenced_widgets": [
      "82c2ca7269b04b87bcec49a42053ebf8",
      "d68c429076b94bf7a9d4a546e238dbf2",
      "862c0a7f4a304c069c92eae56bb45022",
      "1d85ee30fcfb4ce697d0f7dae77c0ad4",
      "75c94d539c4e4b6a83f87f4a3ce2de58",
      "4286c8ab9d79449f9181f5d9812581c1",
      "8a31bfa470f041f3aed512b79768b130",
      "a56f9025d530460088c9be6bd87464b5",
      "21c284fb0948439cb36ad3d589576da8",
      "ee3dc83665e148cc9a8b7a9f17f14b0a",
      "8d9b412c7f6e40adad39607d5836c461"
     ]
    },
    "collapsed": true,
    "executionInfo": {
     "elapsed": 56232,
     "status": "ok",
     "timestamp": 1653709964817,
     "user": {
      "displayName": "Erich Trieschman",
      "userId": "04527634189755173835"
     },
     "user_tz": 420
    },
    "id": "lHI8FJ4Hud0R",
    "jupyter": {
     "outputs_hidden": true
    },
    "outputId": "d6bd5e39-9d42-49c9-fd38-0e1718caf735",
    "tags": []
   },
   "outputs": [
    {
     "name": "stderr",
     "output_type": "stream",
     "text": [
      "Downloading: \"https://download.pytorch.org/models/vit_b_16-c867db91.pth\" to /home/ec2-user/.cache/torch/hub/checkpoints/vit_b_16-c867db91.pth\n"
     ]
    },
    {
     "data": {
      "application/vnd.jupyter.widget-view+json": {
       "model_id": "f75dd8e6cf564120b7897626b681d047",
       "version_major": 2,
       "version_minor": 0
      },
      "text/plain": [
       "  0%|          | 0.00/330M [00:00<?, ?B/s]"
      ]
     },
     "metadata": {},
     "output_type": "display_data"
    },
    {
     "name": "stderr",
     "output_type": "stream",
     "text": [
      "train epoch: [1/1] Loss: 9.0198 ACC@1: 0.00%: 100%|█| 3/3 [00:15<00:00,  5.30s/it\n",
      "validate epoch: [1/1] Loss: 8.6853 ACC@1: 0.00%: 100%|█| 1/1 [00:01<00:00,  1.09s"
     ]
    },
    {
     "name": "stdout",
     "output_type": "stream",
     "text": [
      "\n",
      "Returning best model, with validation accuracy 0.0\n"
     ]
    },
    {
     "name": "stderr",
     "output_type": "stream",
     "text": [
      "\n"
     ]
    },
    {
     "data": {
      "image/png": "[encoded data removed]",
      "text/plain": [
       "<Figure size 1080x360 with 1 Axes>"
      ]
     },
     "metadata": {
      "needs_background": "light"
     },
     "output_type": "display_data"
    }
   ],
   "source": [
    "model_name = 'TransformerClassifierFC'\n",
    "\n",
    "m_trans = TransformerTransferClassifier(num_classes=len(class_names), retrain_last_encoder=False)\n",
    "m_trans = m_trans.to(device)\n",
    "optimizer = optim.SGD(m_trans.parameters(), lr=0.001, momentum=0.9, nesterov=True)\n",
    "schedlr = lr_scheduler.StepLR(optimizer, step_size=2, gamma=0.1) # lr decay\n",
    "criterion = nn.CrossEntropyLoss()\n",
    "acc_trans = train_model(m_trans, criterion, optimizer, schedlr,\n",
    "                        loaders, sizes, device, model_path, num_epochs)\n",
    "plot_accs({key: acc_trans[key] for key in ['epoch_train', 'epoch_validate']})\n",
    "\n",
    "# save to file\n",
    "if save_mode:\n",
    "    # MODEL\n",
    "    torch.save(m_trans.state_dict(), model_path + f'{model_name}.pt')\n",
    "    # RESULTS\n",
    "    filename = f'acc_{model_name}.csv'\n",
    "    epoch_results = pd.DataFrame({key: torch.Tensor(acc_trans[key]) for key in ['epoch_train', 'epoch_validate']})\n",
    "    epoch_results.to_csv(results_path + filename)"
   ]
  },
  {
   "cell_type": "markdown",
   "metadata": {},
   "source": [
    "## Convnext classifier one extra layer"
   ]
  },
  {
   "cell_type": "code",
   "execution_count": null,
   "metadata": {
    "colab": {
     "base_uri": "https://localhost:8080/",
     "height": 492,
     "referenced_widgets": [
      "a47009b557cb442595eae5cd0b852c6a",
      "11bbc69086134d3d926fb802b5bdc503",
      "d6135bcb87e54bd5b64882abcc2dcadf",
      "25590a6ff7c449df9983778f39f48bc3",
      "a82bd38ae7f144d0a0522d5474da71bc",
      "3e25d3c0117b4aebb2b1892f821d3359",
      "48fed15a51c74b3a9f281272ba34edd8",
      "fba5a5d6211a4bd5b5978bd78d258c0d",
      "6b8cc47b503a4099ae451a04fef9fb80",
      "9fe365c04a2b43f7ac06a43d5703a4f8",
      "95117449e34d4813bc326e5034418f5f"
     ]
    },
    "collapsed": true,
    "executionInfo": {
     "elapsed": 52636,
     "status": "ok",
     "timestamp": 1653709908596,
     "user": {
      "displayName": "Erich Trieschman",
      "userId": "04527634189755173835"
     },
     "user_tz": 420
    },
    "id": "Duqu-QEtuDSL",
    "jupyter": {
     "outputs_hidden": true
    },
    "outputId": "a9504f32-0321-4341-dbc5-6dd536b16d78",
    "tags": []
   },
   "outputs": [],
   "source": [
    "model_name = 'ConvNextClassifierOneLayer'\n",
    "\n",
    "m_convnext_d = ConvnextTransferClassifier(num_classes=len(class_names), retrain_last_cnblock=True)\n",
    "m_convnext_d = m_convnext_d.to(device)\n",
    "optimizer = optim.SGD(m_convnext_d.parameters(), lr=0.001, momentum=0.9, nesterov=True)\n",
    "schedlr = lr_scheduler.StepLR(optimizer, step_size=2, gamma=0.1) # lr decay\n",
    "criterion = nn.CrossEntropyLoss()\n",
    "acc_convnext_d = train_model(m_convnext_d, criterion, optimizer, schedlr,\n",
    "                           loaders, sizes, device, model_path, num_epochs)\n",
    "plot_accs({key: acc_convnext_d[key] for key in ['epoch_train', 'epoch_validate']})\n",
    "\n",
    "# save to file\n",
    "if save_mode:\n",
    "    # MODEL\n",
    "    torch.save(m_convnext_d.state_dict(), model_path + f'{model_name}.pt')\n",
    "    # RESULTS\n",
    "    filename = f'acc_{model_name}.csv'\n",
    "    epoch_results = pd.DataFrame({key: torch.Tensor(acc_convnext_d[key]) for key in ['epoch_train', 'epoch_validate']})\n",
    "    epoch_results.to_csv(results_path + filename)"
   ]
  },
  {
   "cell_type": "markdown",
   "metadata": {},
   "source": [
    "### Resnet classifier one extra layer"
   ]
  },
  {
   "cell_type": "code",
   "execution_count": null,
   "metadata": {},
   "outputs": [],
   "source": [
    "## Resnet Classifier one extra layer\n",
    "model_name = 'ResnetClassifierOneLayer'\n",
    "\n",
    "m_resnet_d = ResnetTransferClassifier(num_classes=len(class_names), retrain_last_cnblock=True)\n",
    "m_resnet_d = m_resnet_d.to(device)\n",
    "optimizer = optim.SGD(m_resnet_d.parameters(), lr=0.001, momentum=0.9, nesterov=True)\n",
    "schedlr = lr_scheduler.StepLR(optimizer, step_size=2, gamma=0.1) # lr decay\n",
    "criterion = nn.CrossEntropyLoss()\n",
    "acc_resnet_d = train_model(m_resnet_d, criterion, optimizer, schedlr,\n",
    "                           loaders, sizes, device, model_path, num_epochs)\n",
    "plot_accs({key: acc_resnet_d[key] for key in ['epoch_train', 'epoch_validate']})\n",
    "# save to file\n",
    "if save_mode:\n",
    "    # MODEL\n",
    "    torch.save(m_resnet_d.state_dict(), model_path + f'{model_name}.pt')\n",
    "    # RESULTS\n",
    "    filename = f'acc_{model_name}.csv'\n",
    "    epoch_results = pd.DataFrame({key: torch.Tensor(acc_resnet_d[key]) for key in ['epoch_train', 'epoch_validate']})\n",
    "    epoch_results.to_csv(results_path + filename)"
   ]
  },
  {
   "cell_type": "markdown",
   "metadata": {
    "id": "vhppuU1JuuB8"
   },
   "source": [
    "### Summarize transfer learning of last fully-connected layer"
   ]
  },
  {
   "cell_type": "code",
   "execution_count": 22,
   "metadata": {
    "colab": {
     "base_uri": "https://localhost:8080/"
    },
    "executionInfo": {
     "elapsed": 17,
     "status": "ok",
     "timestamp": 1653709964818,
     "user": {
      "displayName": "Erich Trieschman",
      "userId": "04527634189755173835"
     },
     "user_tz": 420
    },
    "id": "C7Bl4YUnuvrR",
    "outputId": "fa26b600-ba96-430c-9056-e0b3121d3f5c"
   },
   "outputs": [
    {
     "data": {
      "text/plain": [
       "{'resnetfc': tensor(0.2500, dtype=torch.float64),\n",
       " 'convnextfc': tensor(0.1250, dtype=torch.float64),\n",
       " 'transformerfc': tensor(0., dtype=torch.float64)}"
      ]
     },
     "execution_count": 22,
     "metadata": {},
     "output_type": "execute_result"
    }
   ],
   "source": [
    "key = 'epoch_validate'\n",
    "transfer_resultsfc = {\n",
    "    'resnetfc': max(acc_res[key]),\n",
    "    'resnet': max(acc_res_d[key]),\n",
    "    'convnextfc': max(acc_convnext[key]),\n",
    "    'convnext': max(acc_convnext_d[k]),\n",
    "    'transformerfc':max(acc_trans[key])\n",
    "}\n",
    "transfer_resultsfc"
   ]
  }
 ],
 "metadata": {
  "accelerator": "GPU",
  "colab": {
   "authorship_tag": "ABX9TyP08ilwIUktVtyURve5/7f4",
   "collapsed_sections": [],
   "name": "train_species_classifiers.ipynb",
   "provenance": []
  },
  "kernelspec": {
   "display_name": "Python 3 (ipykernel)",
   "language": "python",
   "name": "python3"
  },
  "language_info": {
   "codemirror_mode": {
    "name": "ipython",
    "version": 3
   },
   "file_extension": ".py",
   "mimetype": "text/x-python",
   "name": "python",
   "nbconvert_exporter": "python",
   "pygments_lexer": "ipython3",
   "version": "3.9.12"
  },
  "widgets": {
   "application/vnd.jupyter.widget-state+json": {
    "11bbc69086134d3d926fb802b5bdc503": {
     "model_module": "@jupyter-widgets/controls",
     "model_module_version": "1.5.0",
     "model_name": "HTMLModel",
     "state": {
      "_dom_classes": [],
      "_model_module": "@jupyter-widgets/controls",
      "_model_module_version": "1.5.0",
      "_model_name": "HTMLModel",
      "_view_count": null,
      "_view_module": "@jupyter-widgets/controls",
      "_view_module_version": "1.5.0",
      "_view_name": "HTMLView",
      "description": "",
      "description_tooltip": null,
      "layout": "IPY_MODEL_3e25d3c0117b4aebb2b1892f821d3359",
      "placeholder": "​",
      "style": "IPY_MODEL_48fed15a51c74b3a9f281272ba34edd8",
      "value": "100%"
     }
    },
    "1d85ee30fcfb4ce697d0f7dae77c0ad4": {
     "model_module": "@jupyter-widgets/controls",
     "model_module_version": "1.5.0",
     "model_name": "HTMLModel",
     "state": {
      "_dom_classes": [],
      "_model_module": "@jupyter-widgets/controls",
      "_model_module_version": "1.5.0",
      "_model_name": "HTMLModel",
      "_view_count": null,
      "_view_module": "@jupyter-widgets/controls",
      "_view_module_version": "1.5.0",
      "_view_name": "HTMLView",
      "description": "",
      "description_tooltip": null,
      "layout": "IPY_MODEL_ee3dc83665e148cc9a8b7a9f17f14b0a",
      "placeholder": "​",
      "style": "IPY_MODEL_8d9b412c7f6e40adad39607d5836c461",
      "value": " 330M/330M [00:01&lt;00:00, 195MB/s]"
     }
    },
    "21c284fb0948439cb36ad3d589576da8": {
     "model_module": "@jupyter-widgets/controls",
     "model_module_version": "1.5.0",
     "model_name": "ProgressStyleModel",
     "state": {
      "_model_module": "@jupyter-widgets/controls",
      "_model_module_version": "1.5.0",
      "_model_name": "ProgressStyleModel",
      "_view_count": null,
      "_view_module": "@jupyter-widgets/base",
      "_view_module_version": "1.2.0",
      "_view_name": "StyleView",
      "bar_color": null,
      "description_width": ""
     }
    },
    "25590a6ff7c449df9983778f39f48bc3": {
     "model_module": "@jupyter-widgets/controls",
     "model_module_version": "1.5.0",
     "model_name": "HTMLModel",
     "state": {
      "_dom_classes": [],
      "_model_module": "@jupyter-widgets/controls",
      "_model_module_version": "1.5.0",
      "_model_name": "HTMLModel",
      "_view_count": null,
      "_view_module": "@jupyter-widgets/controls",
      "_view_module_version": "1.5.0",
      "_view_name": "HTMLView",
      "description": "",
      "description_tooltip": null,
      "layout": "IPY_MODEL_9fe365c04a2b43f7ac06a43d5703a4f8",
      "placeholder": "​",
      "style": "IPY_MODEL_95117449e34d4813bc326e5034418f5f",
      "value": " 109M/109M [00:00&lt;00:00, 168MB/s]"
     }
    },
    "3e25d3c0117b4aebb2b1892f821d3359": {
     "model_module": "@jupyter-widgets/base",
     "model_module_version": "1.2.0",
     "model_name": "LayoutModel",
     "state": {
      "_model_module": "@jupyter-widgets/base",
      "_model_module_version": "1.2.0",
      "_model_name": "LayoutModel",
      "_view_count": null,
      "_view_module": "@jupyter-widgets/base",
      "_view_module_version": "1.2.0",
      "_view_name": "LayoutView",
      "align_content": null,
      "align_items": null,
      "align_self": null,
      "border": null,
      "bottom": null,
      "display": null,
      "flex": null,
      "flex_flow": null,
      "grid_area": null,
      "grid_auto_columns": null,
      "grid_auto_flow": null,
      "grid_auto_rows": null,
      "grid_column": null,
      "grid_gap": null,
      "grid_row": null,
      "grid_template_areas": null,
      "grid_template_columns": null,
      "grid_template_rows": null,
      "height": null,
      "justify_content": null,
      "justify_items": null,
      "left": null,
      "margin": null,
      "max_height": null,
      "max_width": null,
      "min_height": null,
      "min_width": null,
      "object_fit": null,
      "object_position": null,
      "order": null,
      "overflow": null,
      "overflow_x": null,
      "overflow_y": null,
      "padding": null,
      "right": null,
      "top": null,
      "visibility": null,
      "width": null
     }
    },
    "4286c8ab9d79449f9181f5d9812581c1": {
     "model_module": "@jupyter-widgets/base",
     "model_module_version": "1.2.0",
     "model_name": "LayoutModel",
     "state": {
      "_model_module": "@jupyter-widgets/base",
      "_model_module_version": "1.2.0",
      "_model_name": "LayoutModel",
      "_view_count": null,
      "_view_module": "@jupyter-widgets/base",
      "_view_module_version": "1.2.0",
      "_view_name": "LayoutView",
      "align_content": null,
      "align_items": null,
      "align_self": null,
      "border": null,
      "bottom": null,
      "display": null,
      "flex": null,
      "flex_flow": null,
      "grid_area": null,
      "grid_auto_columns": null,
      "grid_auto_flow": null,
      "grid_auto_rows": null,
      "grid_column": null,
      "grid_gap": null,
      "grid_row": null,
      "grid_template_areas": null,
      "grid_template_columns": null,
      "grid_template_rows": null,
      "height": null,
      "justify_content": null,
      "justify_items": null,
      "left": null,
      "margin": null,
      "max_height": null,
      "max_width": null,
      "min_height": null,
      "min_width": null,
      "object_fit": null,
      "object_position": null,
      "order": null,
      "overflow": null,
      "overflow_x": null,
      "overflow_y": null,
      "padding": null,
      "right": null,
      "top": null,
      "visibility": null,
      "width": null
     }
    },
    "48fed15a51c74b3a9f281272ba34edd8": {
     "model_module": "@jupyter-widgets/controls",
     "model_module_version": "1.5.0",
     "model_name": "DescriptionStyleModel",
     "state": {
      "_model_module": "@jupyter-widgets/controls",
      "_model_module_version": "1.5.0",
      "_model_name": "DescriptionStyleModel",
      "_view_count": null,
      "_view_module": "@jupyter-widgets/base",
      "_view_module_version": "1.2.0",
      "_view_name": "StyleView",
      "description_width": ""
     }
    },
    "6b8cc47b503a4099ae451a04fef9fb80": {
     "model_module": "@jupyter-widgets/controls",
     "model_module_version": "1.5.0",
     "model_name": "ProgressStyleModel",
     "state": {
      "_model_module": "@jupyter-widgets/controls",
      "_model_module_version": "1.5.0",
      "_model_name": "ProgressStyleModel",
      "_view_count": null,
      "_view_module": "@jupyter-widgets/base",
      "_view_module_version": "1.2.0",
      "_view_name": "StyleView",
      "bar_color": null,
      "description_width": ""
     }
    },
    "75c94d539c4e4b6a83f87f4a3ce2de58": {
     "model_module": "@jupyter-widgets/base",
     "model_module_version": "1.2.0",
     "model_name": "LayoutModel",
     "state": {
      "_model_module": "@jupyter-widgets/base",
      "_model_module_version": "1.2.0",
      "_model_name": "LayoutModel",
      "_view_count": null,
      "_view_module": "@jupyter-widgets/base",
      "_view_module_version": "1.2.0",
      "_view_name": "LayoutView",
      "align_content": null,
      "align_items": null,
      "align_self": null,
      "border": null,
      "bottom": null,
      "display": null,
      "flex": null,
      "flex_flow": null,
      "grid_area": null,
      "grid_auto_columns": null,
      "grid_auto_flow": null,
      "grid_auto_rows": null,
      "grid_column": null,
      "grid_gap": null,
      "grid_row": null,
      "grid_template_areas": null,
      "grid_template_columns": null,
      "grid_template_rows": null,
      "height": null,
      "justify_content": null,
      "justify_items": null,
      "left": null,
      "margin": null,
      "max_height": null,
      "max_width": null,
      "min_height": null,
      "min_width": null,
      "object_fit": null,
      "object_position": null,
      "order": null,
      "overflow": null,
      "overflow_x": null,
      "overflow_y": null,
      "padding": null,
      "right": null,
      "top": null,
      "visibility": null,
      "width": null
     }
    },
    "82c2ca7269b04b87bcec49a42053ebf8": {
     "model_module": "@jupyter-widgets/controls",
     "model_module_version": "1.5.0",
     "model_name": "HBoxModel",
     "state": {
      "_dom_classes": [],
      "_model_module": "@jupyter-widgets/controls",
      "_model_module_version": "1.5.0",
      "_model_name": "HBoxModel",
      "_view_count": null,
      "_view_module": "@jupyter-widgets/controls",
      "_view_module_version": "1.5.0",
      "_view_name": "HBoxView",
      "box_style": "",
      "children": [
       "IPY_MODEL_d68c429076b94bf7a9d4a546e238dbf2",
       "IPY_MODEL_862c0a7f4a304c069c92eae56bb45022",
       "IPY_MODEL_1d85ee30fcfb4ce697d0f7dae77c0ad4"
      ],
      "layout": "IPY_MODEL_75c94d539c4e4b6a83f87f4a3ce2de58"
     }
    },
    "862c0a7f4a304c069c92eae56bb45022": {
     "model_module": "@jupyter-widgets/controls",
     "model_module_version": "1.5.0",
     "model_name": "FloatProgressModel",
     "state": {
      "_dom_classes": [],
      "_model_module": "@jupyter-widgets/controls",
      "_model_module_version": "1.5.0",
      "_model_name": "FloatProgressModel",
      "_view_count": null,
      "_view_module": "@jupyter-widgets/controls",
      "_view_module_version": "1.5.0",
      "_view_name": "ProgressView",
      "bar_style": "success",
      "description": "",
      "description_tooltip": null,
      "layout": "IPY_MODEL_a56f9025d530460088c9be6bd87464b5",
      "max": 346328529,
      "min": 0,
      "orientation": "horizontal",
      "style": "IPY_MODEL_21c284fb0948439cb36ad3d589576da8",
      "value": 346328529
     }
    },
    "8a31bfa470f041f3aed512b79768b130": {
     "model_module": "@jupyter-widgets/controls",
     "model_module_version": "1.5.0",
     "model_name": "DescriptionStyleModel",
     "state": {
      "_model_module": "@jupyter-widgets/controls",
      "_model_module_version": "1.5.0",
      "_model_name": "DescriptionStyleModel",
      "_view_count": null,
      "_view_module": "@jupyter-widgets/base",
      "_view_module_version": "1.2.0",
      "_view_name": "StyleView",
      "description_width": ""
     }
    },
    "8d9b412c7f6e40adad39607d5836c461": {
     "model_module": "@jupyter-widgets/controls",
     "model_module_version": "1.5.0",
     "model_name": "DescriptionStyleModel",
     "state": {
      "_model_module": "@jupyter-widgets/controls",
      "_model_module_version": "1.5.0",
      "_model_name": "DescriptionStyleModel",
      "_view_count": null,
      "_view_module": "@jupyter-widgets/base",
      "_view_module_version": "1.2.0",
      "_view_name": "StyleView",
      "description_width": ""
     }
    },
    "95117449e34d4813bc326e5034418f5f": {
     "model_module": "@jupyter-widgets/controls",
     "model_module_version": "1.5.0",
     "model_name": "DescriptionStyleModel",
     "state": {
      "_model_module": "@jupyter-widgets/controls",
      "_model_module_version": "1.5.0",
      "_model_name": "DescriptionStyleModel",
      "_view_count": null,
      "_view_module": "@jupyter-widgets/base",
      "_view_module_version": "1.2.0",
      "_view_name": "StyleView",
      "description_width": ""
     }
    },
    "9fe365c04a2b43f7ac06a43d5703a4f8": {
     "model_module": "@jupyter-widgets/base",
     "model_module_version": "1.2.0",
     "model_name": "LayoutModel",
     "state": {
      "_model_module": "@jupyter-widgets/base",
      "_model_module_version": "1.2.0",
      "_model_name": "LayoutModel",
      "_view_count": null,
      "_view_module": "@jupyter-widgets/base",
      "_view_module_version": "1.2.0",
      "_view_name": "LayoutView",
      "align_content": null,
      "align_items": null,
      "align_self": null,
      "border": null,
      "bottom": null,
      "display": null,
      "flex": null,
      "flex_flow": null,
      "grid_area": null,
      "grid_auto_columns": null,
      "grid_auto_flow": null,
      "grid_auto_rows": null,
      "grid_column": null,
      "grid_gap": null,
      "grid_row": null,
      "grid_template_areas": null,
      "grid_template_columns": null,
      "grid_template_rows": null,
      "height": null,
      "justify_content": null,
      "justify_items": null,
      "left": null,
      "margin": null,
      "max_height": null,
      "max_width": null,
      "min_height": null,
      "min_width": null,
      "object_fit": null,
      "object_position": null,
      "order": null,
      "overflow": null,
      "overflow_x": null,
      "overflow_y": null,
      "padding": null,
      "right": null,
      "top": null,
      "visibility": null,
      "width": null
     }
    },
    "a47009b557cb442595eae5cd0b852c6a": {
     "model_module": "@jupyter-widgets/controls",
     "model_module_version": "1.5.0",
     "model_name": "HBoxModel",
     "state": {
      "_dom_classes": [],
      "_model_module": "@jupyter-widgets/controls",
      "_model_module_version": "1.5.0",
      "_model_name": "HBoxModel",
      "_view_count": null,
      "_view_module": "@jupyter-widgets/controls",
      "_view_module_version": "1.5.0",
      "_view_name": "HBoxView",
      "box_style": "",
      "children": [
       "IPY_MODEL_11bbc69086134d3d926fb802b5bdc503",
       "IPY_MODEL_d6135bcb87e54bd5b64882abcc2dcadf",
       "IPY_MODEL_25590a6ff7c449df9983778f39f48bc3"
      ],
      "layout": "IPY_MODEL_a82bd38ae7f144d0a0522d5474da71bc"
     }
    },
    "a56f9025d530460088c9be6bd87464b5": {
     "model_module": "@jupyter-widgets/base",
     "model_module_version": "1.2.0",
     "model_name": "LayoutModel",
     "state": {
      "_model_module": "@jupyter-widgets/base",
      "_model_module_version": "1.2.0",
      "_model_name": "LayoutModel",
      "_view_count": null,
      "_view_module": "@jupyter-widgets/base",
      "_view_module_version": "1.2.0",
      "_view_name": "LayoutView",
      "align_content": null,
      "align_items": null,
      "align_self": null,
      "border": null,
      "bottom": null,
      "display": null,
      "flex": null,
      "flex_flow": null,
      "grid_area": null,
      "grid_auto_columns": null,
      "grid_auto_flow": null,
      "grid_auto_rows": null,
      "grid_column": null,
      "grid_gap": null,
      "grid_row": null,
      "grid_template_areas": null,
      "grid_template_columns": null,
      "grid_template_rows": null,
      "height": null,
      "justify_content": null,
      "justify_items": null,
      "left": null,
      "margin": null,
      "max_height": null,
      "max_width": null,
      "min_height": null,
      "min_width": null,
      "object_fit": null,
      "object_position": null,
      "order": null,
      "overflow": null,
      "overflow_x": null,
      "overflow_y": null,
      "padding": null,
      "right": null,
      "top": null,
      "visibility": null,
      "width": null
     }
    },
    "a82bd38ae7f144d0a0522d5474da71bc": {
     "model_module": "@jupyter-widgets/base",
     "model_module_version": "1.2.0",
     "model_name": "LayoutModel",
     "state": {
      "_model_module": "@jupyter-widgets/base",
      "_model_module_version": "1.2.0",
      "_model_name": "LayoutModel",
      "_view_count": null,
      "_view_module": "@jupyter-widgets/base",
      "_view_module_version": "1.2.0",
      "_view_name": "LayoutView",
      "align_content": null,
      "align_items": null,
      "align_self": null,
      "border": null,
      "bottom": null,
      "display": null,
      "flex": null,
      "flex_flow": null,
      "grid_area": null,
      "grid_auto_columns": null,
      "grid_auto_flow": null,
      "grid_auto_rows": null,
      "grid_column": null,
      "grid_gap": null,
      "grid_row": null,
      "grid_template_areas": null,
      "grid_template_columns": null,
      "grid_template_rows": null,
      "height": null,
      "justify_content": null,
      "justify_items": null,
      "left": null,
      "margin": null,
      "max_height": null,
      "max_width": null,
      "min_height": null,
      "min_width": null,
      "object_fit": null,
      "object_position": null,
      "order": null,
      "overflow": null,
      "overflow_x": null,
      "overflow_y": null,
      "padding": null,
      "right": null,
      "top": null,
      "visibility": null,
      "width": null
     }
    },
    "d6135bcb87e54bd5b64882abcc2dcadf": {
     "model_module": "@jupyter-widgets/controls",
     "model_module_version": "1.5.0",
     "model_name": "FloatProgressModel",
     "state": {
      "_dom_classes": [],
      "_model_module": "@jupyter-widgets/controls",
      "_model_module_version": "1.5.0",
      "_model_name": "FloatProgressModel",
      "_view_count": null,
      "_view_module": "@jupyter-widgets/controls",
      "_view_module_version": "1.5.0",
      "_view_name": "ProgressView",
      "bar_style": "success",
      "description": "",
      "description_tooltip": null,
      "layout": "IPY_MODEL_fba5a5d6211a4bd5b5978bd78d258c0d",
      "max": 114419221,
      "min": 0,
      "orientation": "horizontal",
      "style": "IPY_MODEL_6b8cc47b503a4099ae451a04fef9fb80",
      "value": 114419221
     }
    },
    "d68c429076b94bf7a9d4a546e238dbf2": {
     "model_module": "@jupyter-widgets/controls",
     "model_module_version": "1.5.0",
     "model_name": "HTMLModel",
     "state": {
      "_dom_classes": [],
      "_model_module": "@jupyter-widgets/controls",
      "_model_module_version": "1.5.0",
      "_model_name": "HTMLModel",
      "_view_count": null,
      "_view_module": "@jupyter-widgets/controls",
      "_view_module_version": "1.5.0",
      "_view_name": "HTMLView",
      "description": "",
      "description_tooltip": null,
      "layout": "IPY_MODEL_4286c8ab9d79449f9181f5d9812581c1",
      "placeholder": "​",
      "style": "IPY_MODEL_8a31bfa470f041f3aed512b79768b130",
      "value": "100%"
     }
    },
    "ee3dc83665e148cc9a8b7a9f17f14b0a": {
     "model_module": "@jupyter-widgets/base",
     "model_module_version": "1.2.0",
     "model_name": "LayoutModel",
     "state": {
      "_model_module": "@jupyter-widgets/base",
      "_model_module_version": "1.2.0",
      "_model_name": "LayoutModel",
      "_view_count": null,
      "_view_module": "@jupyter-widgets/base",
      "_view_module_version": "1.2.0",
      "_view_name": "LayoutView",
      "align_content": null,
      "align_items": null,
      "align_self": null,
      "border": null,
      "bottom": null,
      "display": null,
      "flex": null,
      "flex_flow": null,
      "grid_area": null,
      "grid_auto_columns": null,
      "grid_auto_flow": null,
      "grid_auto_rows": null,
      "grid_column": null,
      "grid_gap": null,
      "grid_row": null,
      "grid_template_areas": null,
      "grid_template_columns": null,
      "grid_template_rows": null,
      "height": null,
      "justify_content": null,
      "justify_items": null,
      "left": null,
      "margin": null,
      "max_height": null,
      "max_width": null,
      "min_height": null,
      "min_width": null,
      "object_fit": null,
      "object_position": null,
      "order": null,
      "overflow": null,
      "overflow_x": null,
      "overflow_y": null,
      "padding": null,
      "right": null,
      "top": null,
      "visibility": null,
      "width": null
     }
    },
    "fba5a5d6211a4bd5b5978bd78d258c0d": {
     "model_module": "@jupyter-widgets/base",
     "model_module_version": "1.2.0",
     "model_name": "LayoutModel",
     "state": {
      "_model_module": "@jupyter-widgets/base",
      "_model_module_version": "1.2.0",
      "_model_name": "LayoutModel",
      "_view_count": null,
      "_view_module": "@jupyter-widgets/base",
      "_view_module_version": "1.2.0",
      "_view_name": "LayoutView",
      "align_content": null,
      "align_items": null,
      "align_self": null,
      "border": null,
      "bottom": null,
      "display": null,
      "flex": null,
      "flex_flow": null,
      "grid_area": null,
      "grid_auto_columns": null,
      "grid_auto_flow": null,
      "grid_auto_rows": null,
      "grid_column": null,
      "grid_gap": null,
      "grid_row": null,
      "grid_template_areas": null,
      "grid_template_columns": null,
      "grid_template_rows": null,
      "height": null,
      "justify_content": null,
      "justify_items": null,
      "left": null,
      "margin": null,
      "max_height": null,
      "max_width": null,
      "min_height": null,
      "min_width": null,
      "object_fit": null,
      "object_position": null,
      "order": null,
      "overflow": null,
      "overflow_x": null,
      "overflow_y": null,
      "padding": null,
      "right": null,
      "top": null,
      "visibility": null,
      "width": null
     }
    }
   }
  }
 },
 "nbformat": 4,
 "nbformat_minor": 4
}
