{
 "cells": [
  {
   "cell_type": "code",
   "execution_count": 36,
   "id": "ae70d952-3ac7-41c7-97e5-52e2f5bedb53",
   "metadata": {},
   "outputs": [],
   "source": [
    "import numpy as np\n",
    "import pandas as pd\n",
    "import matplotlib.pyplot as plt\n",
    "import requests\n",
    "import re\n",
    "from bs4 import BeautifulSoup\n",
    "import urllib\n",
    "from pathlib import Path\n",
    "import os\n",
    "import shutil\n",
    "import sys\n",
    "import json\n",
    "from tqdm import tqdm\n",
    "\n",
    "# constants\n",
    "repo_path = Path('/Users/etriesch/dev/tree-finder')\n",
    "species_path = repo_path / 'data/images_spec'\n",
    "binary_path = repo_path / 'data/images_bin'"
   ]
  },
  {
   "cell_type": "code",
   "execution_count": 14,
   "id": "5df23412-ff0a-4b49-a60b-3f8e641d954c",
   "metadata": {},
   "outputs": [
    {
     "name": "stdout",
     "output_type": "stream",
     "text": [
      "The autoreload extension is already loaded. To reload it, use:\n",
      "  %reload_ext autoreload\n"
     ]
    }
   ],
   "source": [
    "# setup cell\n",
    "from scrape_fns import make_scrape_profile\n",
    "from scrape_fns import download_arbor_tree_images, download_harvard_tree_images\n",
    "from scrape_fns import download_bing_images\n",
    "\n",
    "# And change jupyter settings to auto-reload these functions before each instance running them\n",
    "%load_ext autoreload\n",
    "%autoreload 2"
   ]
  },
  {
   "cell_type": "code",
   "execution_count": 3,
   "id": "c36bb529-7500-455b-a385-7889f2a960dc",
   "metadata": {},
   "outputs": [],
   "source": [
    "make_scrape_profile()"
   ]
  },
  {
   "cell_type": "code",
   "execution_count": 4,
   "id": "898d48e5-25c8-4e5a-9258-c990703066e4",
   "metadata": {},
   "outputs": [],
   "source": [
    "# constants\n",
    "trees = np.array(['black locust', 'black walnut', 'honey locust', 'loblolly pine', 'northern red oak', 'pecan', 'chinese chestnut'])"
   ]
  },
  {
   "cell_type": "markdown",
   "id": "d3a6f62f-267e-4d48-a900-2d3831be2c21",
   "metadata": {},
   "source": [
    "# Pull species-labeled trees"
   ]
  },
  {
   "cell_type": "markdown",
   "id": "d1c82618-201f-45d1-a5f8-d7f8b5eebac3",
   "metadata": {},
   "source": [
    "## Arborday website\n",
    "https://shop.arborday.org/"
   ]
  },
  {
   "cell_type": "code",
   "execution_count": 4,
   "id": "29b0831a-d12b-4eec-8137-9664ea7048d0",
   "metadata": {},
   "outputs": [],
   "source": [
    "tree_in_db = [False, True, False, True, True, True, True]\n",
    "\n",
    "download_arbor_tree_images(species_path, trees[tree_in_db])"
   ]
  },
  {
   "cell_type": "markdown",
   "id": "ff844292-0827-419a-bad2-83543f4dce10",
   "metadata": {},
   "source": [
    "## Harvard Arboretum\n",
    "http://arboretum.harvard.edu/"
   ]
  },
  {
   "cell_type": "code",
   "execution_count": 13,
   "id": "6f3f968f-953c-47b9-bcaa-61f2fc2588c8",
   "metadata": {},
   "outputs": [
    {
     "name": "stdout",
     "output_type": "stream",
     "text": [
      "pulling 43 black locusts from http://arboretum.harvard.edu/plants/image-search/?keyword=black+locust&image_per_page=1000\n",
      "pulling 84 black walnuts from http://arboretum.harvard.edu/plants/image-search/?keyword=black+walnut&image_per_page=1000\n",
      "pulling 41 northern red oaks from http://arboretum.harvard.edu/plants/image-search/?keyword=northern+red+oak&image_per_page=1000\n",
      "pulling 14 pecans from http://arboretum.harvard.edu/plants/image-search/?keyword=pecan&image_per_page=1000\n",
      "pulling 96 chinese chestnuts from http://arboretum.harvard.edu/plants/image-search/?keyword=castanea&image_per_page=1000\n"
     ]
    }
   ],
   "source": [
    "# constants\n",
    "search_trees = np.array(['black locust', 'black walnut', 'honey locust', 'loblolly pine', 'northern red oak', 'pecan', 'castanea'])\n",
    "tree_in_db = [True, True, False, False, True, True, True]\n",
    "\n",
    "download_harvard_tree_images(species_path, trees[tree_in_db], search_trees[tree_in_db])"
   ]
  },
  {
   "cell_type": "markdown",
   "id": "1ac56bea-019f-44b6-9ebe-6a775361c437",
   "metadata": {},
   "source": [
    "## Bing search images"
   ]
  },
  {
   "cell_type": "code",
   "execution_count": null,
   "id": "14c902a8-2c26-4b90-b73b-ff2ef0e50123",
   "metadata": {},
   "outputs": [],
   "source": [
    "tree_search_terms = np.array([t + ' tree' for t in trees])\n",
    "\n",
    "download_bing_images(species_path, tree_search_terms, num_pages=10, photos_per_page=75)"
   ]
  },
  {
   "cell_type": "markdown",
   "id": "e8d2c3a2-8131-40ff-a4fc-b9693e1be3ee",
   "metadata": {},
   "source": [
    "# Pull binary-classified trees"
   ]
  },
  {
   "cell_type": "code",
   "execution_count": 33,
   "id": "066215db-d28e-48c0-b7fb-405f24619ef8",
   "metadata": {},
   "outputs": [
    {
     "name": "stdout",
     "output_type": "stream",
     "text": [
      "==== Scraping tree photograph ====\n",
      "pulled 75 image urls\n",
      "---- Downloading ----\n"
     ]
    },
    {
     "name": "stderr",
     "output_type": "stream",
     "text": [
      "100%|███████████████████████████████████████████| 75/75 [01:03<00:00,  1.18it/s]\n"
     ]
    },
    {
     "name": "stdout",
     "output_type": "stream",
     "text": [
      "Successfully loaded 70 images\n",
      "==== Scraping table ====\n",
      "pulled 75 image urls\n",
      "---- Downloading ----\n"
     ]
    },
    {
     "name": "stderr",
     "output_type": "stream",
     "text": [
      "100%|███████████████████████████████████████████| 75/75 [00:52<00:00,  1.44it/s]\n"
     ]
    },
    {
     "name": "stdout",
     "output_type": "stream",
     "text": [
      "Successfully loaded 69 images\n",
      "==== Scraping map ====\n",
      "pulled 75 image urls\n",
      "---- Downloading ----\n"
     ]
    },
    {
     "name": "stderr",
     "output_type": "stream",
     "text": [
      "100%|███████████████████████████████████████████| 75/75 [00:52<00:00,  1.44it/s]\n"
     ]
    },
    {
     "name": "stdout",
     "output_type": "stream",
     "text": [
      "Successfully loaded 65 images\n",
      "==== Scraping cartoon tree drawing ====\n",
      "pulled 75 image urls\n",
      "---- Downloading ----\n"
     ]
    },
    {
     "name": "stderr",
     "output_type": "stream",
     "text": [
      "100%|███████████████████████████████████████████| 75/75 [00:44<00:00,  1.69it/s]\n"
     ]
    },
    {
     "name": "stdout",
     "output_type": "stream",
     "text": [
      "Successfully loaded 69 images\n",
      "==== Scraping diagram ====\n",
      "pulled 75 image urls\n",
      "---- Downloading ----\n"
     ]
    },
    {
     "name": "stderr",
     "output_type": "stream",
     "text": [
      "100%|███████████████████████████████████████████| 75/75 [00:41<00:00,  1.79it/s]"
     ]
    },
    {
     "name": "stdout",
     "output_type": "stream",
     "text": [
      "Successfully loaded 70 images\n"
     ]
    },
    {
     "name": "stderr",
     "output_type": "stream",
     "text": [
      "\n"
     ]
    }
   ],
   "source": [
    "search_terms = np.array([\n",
    "    'tree photograph',\n",
    "    'table', 'map',\n",
    "    'cartoon tree drawing',\n",
    "    'diagram', 'hand'\n",
    "])\n",
    "\n",
    "download_bing_images(binary_path, search_terms, num_pages=1, photos_per_page=75)"
   ]
  },
  {
   "cell_type": "code",
   "execution_count": 34,
   "id": "c367f341-45b2-46cc-81db-d9b62e49a41e",
   "metadata": {},
   "outputs": [
    {
     "name": "stdout",
     "output_type": "stream",
     "text": [
      "==== Scraping hand ====\n",
      "pulled 75 image urls\n",
      "---- Downloading ----\n"
     ]
    },
    {
     "name": "stderr",
     "output_type": "stream",
     "text": [
      "100%|███████████████████████████████████████████| 75/75 [01:00<00:00,  1.23it/s]"
     ]
    },
    {
     "name": "stdout",
     "output_type": "stream",
     "text": [
      "Successfully loaded 66 images\n"
     ]
    },
    {
     "name": "stderr",
     "output_type": "stream",
     "text": [
      "\n"
     ]
    }
   ],
   "source": [
    "download_bing_images(binary_path, np.array(['hand']), num_pages=1, photos_per_page=75)"
   ]
  },
  {
   "cell_type": "markdown",
   "id": "a6751e3a-8b75-4ff2-ba0f-7b26129451af",
   "metadata": {},
   "source": [
    "### Move around images to make binary classification structure"
   ]
  },
  {
   "cell_type": "code",
   "execution_count": 38,
   "id": "66033b35-9a61-4787-b2e0-f9198ae2f56f",
   "metadata": {},
   "outputs": [],
   "source": [
    "# move photos around so its a binary classification -- make sure tree class is first in list\n",
    "# make tree folder\n",
    "source_dir = binary_path / search_terms[0].replace(' ', '')\n",
    "target_dir = binary_path / 'tree'\n",
    "if os.path.exists(source_dir):\n",
    "    os.rename(source_dir, target_dir)"
   ]
  },
  {
   "cell_type": "code",
   "execution_count": 50,
   "id": "beba9d6e-a43a-4648-b408-e93e656d852e",
   "metadata": {},
   "outputs": [
    {
     "name": "stdout",
     "output_type": "stream",
     "text": [
      "table\n",
      "map\n",
      "cartoon tree drawing\n",
      "diagram\n"
     ]
    }
   ],
   "source": [
    "# make not-tree folder\n",
    "target_dir = binary_path / 'nottree'\n",
    "if not os.path.exists(target_dir):\n",
    "    os.mkdir(target_dir)\n",
    "\n",
    "for search in search_terms[1:]:\n",
    "    source_dir = binary_path / search.replace(' ', '')\n",
    "    file_names = os.listdir(source_dir) # get files in folder\n",
    "    for file_name in file_names: # move files\n",
    "        shutil.copy(source_dir / file_name, target_dir)\n",
    "    if os.path.exists(source_dir):\n",
    "        shutil.rmtree(source_dir) # delete folder"
   ]
  },
  {
   "cell_type": "code",
   "execution_count": null,
   "id": "54a5f56c-73a9-41f8-903b-7f6bd79b06c2",
   "metadata": {},
   "outputs": [],
   "source": []
  },
  {
   "cell_type": "code",
   "execution_count": null,
   "id": "3552af73-3821-4ab4-853d-c5d152a86933",
   "metadata": {},
   "outputs": [],
   "source": []
  },
  {
   "cell_type": "code",
   "execution_count": null,
   "id": "1eea31a1-2fe3-447c-8796-61eb93baebbe",
   "metadata": {},
   "outputs": [],
   "source": []
  }
 ],
 "metadata": {
  "kernelspec": {
   "display_name": "tree-finder",
   "language": "python",
   "name": "tree-finder"
  },
  "language_info": {
   "codemirror_mode": {
    "name": "ipython",
    "version": 3
   },
   "file_extension": ".py",
   "mimetype": "text/x-python",
   "name": "python",
   "nbconvert_exporter": "python",
   "pygments_lexer": "ipython3",
   "version": "3.9.12"
  }
 },
 "nbformat": 4,
 "nbformat_minor": 5
}
